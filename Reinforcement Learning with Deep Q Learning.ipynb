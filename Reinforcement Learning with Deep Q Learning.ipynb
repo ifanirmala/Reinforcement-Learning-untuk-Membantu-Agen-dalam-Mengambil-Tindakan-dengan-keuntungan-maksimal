{
  "cells": [
    {
      "cell_type": "markdown",
      "metadata": {
        "id": "0QfvoKB-IInB"
      },
      "source": [
        "# About Reinforcement Learning and Deep Q-Learning\n",
        "> \"Pembelajaran penguatan adalah area pembelajaran mesin yang difokuskan pada agen pelatihan untuk mengambil tindakan tertentu pada keadaan tertentu dari dalam lingkungan untuk memaksimalkan hadiah. DQN (Deep Q-Net) adalah algoritme pembelajaran penguatan di mana model pembelajaran mendalam dibangun untuk menemukan tindakan yang dapat dilakukan agen di setiap status\" [*Siwei Xu's tutorial\n",
        "*](https://towardsdatascience.com/deep-reinforcement-learning-build-a-deep-q-network-dqn-to-play-cartpole-with-tensorflow-2-and-gym-8e105744b998)"
      ]
    },
    {
      "cell_type": "markdown",
      "metadata": {
        "id": "HQaxKMsEIInW"
      },
      "source": [
        "<a class=\"anchor\" id=\"install_libraries\"></a>\n",
        "# Install libraries\n",
        "[Back to Table of Contents](#ToC)"
      ]
    },
    {
      "cell_type": "code",
      "execution_count": 2,
      "metadata": {
        "_cell_guid": "b1076dfc-b9ad-4769-8c92-a6c4dae69d19",
        "_uuid": "8f2839f25d086af736a60e9eeb907d3b93b6e0e5",
        "id": "2Yl97t_EIIne"
      },
      "outputs": [],
      "source": [
        "!pip install 'kaggle-environments==0.1.6' > /dev/null 2>&1"
      ]
    },
    {
      "cell_type": "markdown",
      "metadata": {
        "id": "ExWldBaMIIn0"
      },
      "source": [
        "<a class=\"anchor\" id=\"import_libraries\"></a>\n",
        "# Import libraries\n",
        "[Back to Table of Contents](#ToC)"
      ]
    },
    {
      "cell_type": "code",
      "execution_count": 3,
      "metadata": {
        "_cell_guid": "79c7e3d0-c299-4dcb-8224-4455121ee9b0",
        "_uuid": "d629ff2d2480ee46fbb7e2d37f6b5fab8052498a",
        "id": "QEGHlL0uIIn1"
      },
      "outputs": [],
      "source": [
        "import numpy as np\n",
        "import gym\n",
        "import torch\n",
        "import torch.nn as nn\n",
        "import torch.optim as optim\n",
        "import matplotlib.pyplot as plt\n",
        "from tqdm.notebook import tqdm\n",
        "from kaggle_environments import evaluate, make"
      ]
    },
    {
      "cell_type": "markdown",
      "metadata": {
        "id": "fdo-GFtRIIn2"
      },
      "source": [
        "<a class=\"anchor\" id=\"define_useful_classes\"></a>\n",
        "# Define useful classes\n"
      ]
    },
    {
      "cell_type": "code",
      "execution_count": 4,
      "metadata": {
        "id": "r0QgOlQSIIn4"
      },
      "outputs": [],
      "source": [
        "class ConnectX(gym.Env):\n",
        "    def __init__(self, switch_prob=0.5):\n",
        "        self.env = make('connectx', debug=False)\n",
        "        self.pair = [None, 'random']\n",
        "        self.trainer = self.env.train(self.pair)\n",
        "        self.switch_prob = switch_prob\n",
        "\n",
        "        # Define required gym fields (examples):\n",
        "        config = self.env.configuration\n",
        "        self.action_space = gym.spaces.Discrete(config.columns)\n",
        "        self.observation_space = gym.spaces.Discrete(config.columns * config.rows)\n",
        "\n",
        "    def switch_trainer(self):\n",
        "        self.pair = self.pair[::-1]\n",
        "        self.trainer = self.env.train(self.pair)\n",
        "\n",
        "    def step(self, action):\n",
        "        return self.trainer.step(action)\n",
        "    \n",
        "    def reset(self):\n",
        "        if np.random.random() < self.switch_prob:\n",
        "            self.switch_trainer()\n",
        "        return self.trainer.reset()\n",
        "    \n",
        "    def render(self, **kwargs):\n",
        "        return self.env.render(**kwargs)\n",
        "    \n",
        "    \n",
        "class DeepModel(nn.Module):\n",
        "    def __init__(self, num_states, hidden_units, num_actions):\n",
        "        super(DeepModel, self).__init__()\n",
        "        self.hidden_layers = nn.ModuleList([])\n",
        "        for i in range(len(hidden_units)):\n",
        "            if i == 0:\n",
        "                self.hidden_layers.append(\n",
        "                    nn.Linear(num_states, hidden_units[i])\n",
        "                )\n",
        "            else:\n",
        "                self.hidden_layers.append(\n",
        "                    nn.Linear(hidden_units[i-1], hidden_units[i])\n",
        "                )\n",
        "        self.output_layer = nn.Linear(hidden_units[-1], num_actions)\n",
        "\n",
        "    def forward(self, x):\n",
        "        for layer in self.hidden_layers:\n",
        "            x = torch.sigmoid(layer(x))\n",
        "        x = self.output_layer(x)\n",
        "\n",
        "        return x\n",
        "\n",
        "\n",
        "class DQN:\n",
        "    def __init__(self, num_states, num_actions, hidden_units, gamma, max_experiences, min_experiences, batch_size, lr):\n",
        "        self.num_actions = num_actions\n",
        "        self.batch_size = batch_size\n",
        "        self.gamma = gamma\n",
        "        self.model = DeepModel(num_states, hidden_units, num_actions)\n",
        "        self.optimizer = optim.Adam(self.model.parameters(), lr=lr)\n",
        "        self.criterion = nn.MSELoss()\n",
        "        self.experience = {'s': [], 'a': [], 'r': [], 's2': [], 'done': []} # The buffer\n",
        "        self.max_experiences = max_experiences\n",
        "        self.min_experiences = min_experiences\n",
        "\n",
        "    def predict(self, inputs):\n",
        "        return self.model(torch.from_numpy(inputs).float())\n",
        "\n",
        "    def train(self, TargetNet):\n",
        "        if len(self.experience['s']) < self.min_experiences:\n",
        "            # Only start the training process when we have enough experiences in the buffer\n",
        "            return 0\n",
        "\n",
        "        # Randomly select n experience in the buffer, n is batch-size\n",
        "        ids = np.random.randint(low=0, high=len(self.experience['s']), size=self.batch_size)\n",
        "        states = np.asarray([self.preprocess(self.experience['s'][i]) for i in ids])\n",
        "        actions = np.asarray([self.experience['a'][i] for i in ids])\n",
        "        rewards = np.asarray([self.experience['r'][i] for i in ids])\n",
        "\n",
        "        # Prepare labels for training process\n",
        "        states_next = np.asarray([self.preprocess(self.experience['s2'][i]) for i in ids])\n",
        "        dones = np.asarray([self.experience['done'][i] for i in ids])\n",
        "        value_next = np.max(TargetNet.predict(states_next).detach().numpy(), axis=1)\n",
        "        actual_values = np.where(dones, rewards, rewards+self.gamma*value_next)\n",
        "\n",
        "        actions = np.expand_dims(actions, axis=1)\n",
        "        actions_one_hot = torch.FloatTensor(self.batch_size, self.num_actions).zero_()\n",
        "        actions_one_hot = actions_one_hot.scatter_(1, torch.LongTensor(actions), 1)\n",
        "        selected_action_values = torch.sum(self.predict(states) * actions_one_hot, dim=1)\n",
        "        actual_values = torch.FloatTensor(actual_values)\n",
        "\n",
        "        self.optimizer.zero_grad()\n",
        "        loss = self.criterion(selected_action_values, actual_values)\n",
        "        loss.backward()\n",
        "        self.optimizer.step()\n",
        "\n",
        "    # Get an action by using epsilon-greedy\n",
        "    def get_action(self, state, epsilon):\n",
        "        if np.random.random() < epsilon:\n",
        "            return int(np.random.choice([c for c in range(self.num_actions) if state.board[c] == 0]))\n",
        "        else:\n",
        "            prediction = self.predict(np.atleast_2d(self.preprocess(state)))[0].detach().numpy()\n",
        "            for i in range(self.num_actions):\n",
        "                if state.board[i] != 0:\n",
        "                    prediction[i] = -1e7\n",
        "            return int(np.argmax(prediction))\n",
        "\n",
        "    # Method used to manage the buffer\n",
        "    def add_experience(self, exp):\n",
        "        if len(self.experience['s']) >= self.max_experiences:\n",
        "            for key in self.experience.keys():\n",
        "                self.experience[key].pop(0)\n",
        "        for key, value in exp.items():\n",
        "            self.experience[key].append(value)\n",
        "\n",
        "    def copy_weights(self, TrainNet):\n",
        "        self.model.load_state_dict(TrainNet.state_dict())\n",
        "\n",
        "    def save_weights(self, path):\n",
        "        torch.save(self.model.state_dict(), path)\n",
        "\n",
        "    def load_weights(self, path):\n",
        "        self.model.load_state_dict(torch.load(path))\n",
        "    \n",
        "    # Each state will consist of the board and the mark\n",
        "    # in the observations\n",
        "    def preprocess(self, state):\n",
        "        result = state.board[:]\n",
        "        result.append(state.mark)\n",
        "\n",
        "        return result"
      ]
    },
    {
      "cell_type": "markdown",
      "metadata": {
        "id": "mTpTeyTKIIoH"
      },
      "source": [
        "<a class=\"anchor\" id=\"define_helper_functions\"></a>\n",
        "# Define helper-functions\n",
        "[Back to Table of Contents](#ToC)"
      ]
    },
    {
      "cell_type": "code",
      "execution_count": 5,
      "metadata": {
        "id": "-MCtQ2xPIIpi"
      },
      "outputs": [],
      "source": [
        "def play_game(env, TrainNet, TargetNet, epsilon, copy_step):\n",
        "    rewards = 0\n",
        "    iter = 0\n",
        "    done = False\n",
        "    observations = env.reset()\n",
        "    while not done:\n",
        "        # Using epsilon-greedy to get an action\n",
        "        action = TrainNet.get_action(observations, epsilon)\n",
        "\n",
        "        # Caching the information of current state\n",
        "        prev_observations = observations\n",
        "\n",
        "        # Take action\n",
        "        observations, reward, done, _ = env.step(action)\n",
        "\n",
        "        # Apply new rules\n",
        "        if done:\n",
        "            if reward == 1: # Won\n",
        "                reward = 20\n",
        "            elif reward == 0: # Lost\n",
        "                reward = -20\n",
        "            else: # Draw\n",
        "                reward = 10\n",
        "        else:\n",
        "#             reward = -0.05 # Try to prevent the agent from taking a long move\n",
        "\n",
        "            # Try to promote the agent to \"struggle\" when playing against negamax agent\n",
        "            # as Magolor's (@magolor) idea\n",
        "            reward = 0.5\n",
        "\n",
        "        rewards += reward\n",
        "\n",
        "        # Adding experience into buffer\n",
        "        exp = {'s': prev_observations, 'a': action, 'r': reward, 's2': observations, 'done': done}\n",
        "        TrainNet.add_experience(exp)\n",
        "\n",
        "        # Train the training model by using experiences in buffer and the target model\n",
        "        TrainNet.train(TargetNet)\n",
        "        iter += 1\n",
        "        if iter % copy_step == 0:\n",
        "            # Update the weights of the target model when reaching enough \"copy step\"\n",
        "            TargetNet.copy_weights(TrainNet)\n",
        "    return rewards"
      ]
    },
    {
      "cell_type": "markdown",
      "metadata": {
        "id": "ZFFeHMGFIIpj"
      },
      "source": [
        "<a class=\"anchor\" id=\"create_connectx_environment\"></a>\n",
        "# Create ConnectX environment\n",
        "[Back to Table of Contents](#ToC)"
      ]
    },
    {
      "cell_type": "code",
      "execution_count": 8,
      "metadata": {
        "id": "L_YDMV1tIIpl"
      },
      "outputs": [],
      "source": [
        "env = ConnectX()"
      ]
    },
    {
      "cell_type": "markdown",
      "metadata": {
        "id": "GzGvwOOeIIpo"
      },
      "source": [
        "<a class=\"anchor\" id=\"configure_hyper_parameters\"></a>\n",
        "# Configure hyper-parameters\n",
        "[Back to Table of Contents](#ToC)"
      ]
    },
    {
      "cell_type": "code",
      "execution_count": 9,
      "metadata": {
        "id": "9cvqsV8bIIpo"
      },
      "outputs": [],
      "source": [
        "gamma = 0.99\n",
        "copy_step = 25\n",
        "hidden_units = [128, 128, 128, 128, 128]\n",
        "max_experiences = 10000\n",
        "min_experiences = 100\n",
        "batch_size = 32\n",
        "lr = 1e-2\n",
        "epsilon = 0.5\n",
        "decay = 0.9999\n",
        "min_epsilon = 0.1\n",
        "episodes = 20000\n",
        "\n",
        "precision = 7"
      ]
    },
    {
      "cell_type": "markdown",
      "metadata": {
        "id": "-8qjixQdIIpq"
      },
      "source": [
        "<a class=\"anchor\" id=\"train_the_agent\"></a>\n",
        "# Train the agent\n",
        "[Back to Table of Contents](#ToC)"
      ]
    },
    {
      "cell_type": "code",
      "execution_count": 10,
      "metadata": {
        "id": "RA8wN0USIIpr"
      },
      "outputs": [],
      "source": [
        "num_states = env.observation_space.n + 1\n",
        "num_actions = env.action_space.n\n",
        "\n",
        "all_total_rewards = np.empty(episodes)\n",
        "all_avg_rewards = np.empty(episodes) # Last 100 steps\n",
        "all_epsilons = np.empty(episodes)\n",
        "\n",
        "# Initialize models\n",
        "TrainNet = DQN(num_states, num_actions, hidden_units, gamma, max_experiences, min_experiences, batch_size, lr)\n",
        "TargetNet = DQN(num_states, num_actions, hidden_units, gamma, max_experiences, min_experiences, batch_size, lr)"
      ]
    },
    {
      "cell_type": "code",
      "execution_count": null,
      "metadata": {
        "colab": {
          "base_uri": "https://localhost:8080/",
          "height": 49,
          "referenced_widgets": [
            "4e205ea0897b4b99888a2c4879d2c34a",
            "3f858fa28fb745aabbc40a045c3112b6",
            "3fda6cba2f2e48b082ea445d0166b63f",
            "2c221459fecd44ef9bb7b79c79f91875",
            "1f40759b2e864097b069a370fbdc7f60",
            "84a2cfd810674c56ba037b5bc99a6f65",
            "11478624b6c94415b0637e9a5de60ffc",
            "5a8cb539b216454594d6750431952a97",
            "105be7924d00409e806d219cb0727622",
            "6a2d4a08e643444091d55db63fad73ba",
            "72ea4d856dda4d088de50cc0c8af0cc7"
          ]
        },
        "id": "HkKkr1POIIpw",
        "outputId": "8ebff5b2-06bc-4659-abb2-acf9a4c6812d"
      },
      "outputs": [
        {
          "output_type": "display_data",
          "data": {
            "text/plain": [
              "  0%|          | 0/20000 [00:00<?, ?it/s]"
            ],
            "application/vnd.jupyter.widget-view+json": {
              "version_major": 2,
              "version_minor": 0,
              "model_id": "4e205ea0897b4b99888a2c4879d2c34a"
            }
          },
          "metadata": {}
        }
      ],
      "source": [
        "pbar = tqdm(range(episodes))\n",
        "for n in pbar:\n",
        "    epsilon = max(min_epsilon, epsilon * decay)\n",
        "    total_reward = play_game(env, TrainNet, TargetNet, epsilon, copy_step)\n",
        "    all_total_rewards[n] = total_reward\n",
        "    avg_reward = all_total_rewards[max(0, n - 100):(n + 1)].mean()\n",
        "    all_avg_rewards[n] = avg_reward\n",
        "    all_epsilons[n] = epsilon\n",
        "\n",
        "    pbar.set_postfix({\n",
        "        'episode reward': total_reward,\n",
        "        'avg (100 last) reward': avg_reward,\n",
        "        'epsilon': epsilon\n",
        "    })"
      ]
    },
    {
      "cell_type": "code",
      "execution_count": null,
      "metadata": {
        "id": "0Wn5BJHVIIqd"
      },
      "outputs": [],
      "source": [
        "# plt.plot(all_total_rewards)\n",
        "# plt.xlabel('Episode')\n",
        "# plt.ylabel('Total rewards')\n",
        "# plt.show()"
      ]
    },
    {
      "cell_type": "code",
      "execution_count": null,
      "metadata": {
        "id": "vMURK1OQIIqf",
        "outputId": "c93f6aa4-ad03-4909-fc33-8ebaa67c0980"
      },
      "outputs": [
        {
          "data": {
            "image/png": "[encoded data removed]",
            "text/plain": [
              "<Figure size 432x288 with 1 Axes>"
            ]
          },
          "metadata": {
            "needs_background": "light"
          },
          "output_type": "display_data"
        }
      ],
      "source": [
        "plt.plot(all_avg_rewards)\n",
        "plt.xlabel('Episode')\n",
        "plt.ylabel('Avg rewards (100)')\n",
        "plt.show()"
      ]
    },
    {
      "cell_type": "code",
      "execution_count": null,
      "metadata": {
        "id": "UEH_hyvUIIqi",
        "outputId": "144009d2-35e3-4846-dac9-0c9906eaef86"
      },
      "outputs": [
        {
          "data": {
            "image/png": "[encoded data removed]",
            "text/plain": [
              "<Figure size 432x288 with 1 Axes>"
            ]
          },
          "metadata": {
            "needs_background": "light"
          },
          "output_type": "display_data"
        }
      ],
      "source": [
        "plt.plot(all_epsilons)\n",
        "plt.xlabel('Episode')\n",
        "plt.ylabel('Epsilon')\n",
        "plt.show()"
      ]
    },
    {
      "cell_type": "markdown",
      "metadata": {
        "id": "PKl_ACi2IIqk"
      },
      "source": [
        "<a class=\"anchor\" id=\"save_weights\"></a>\n",
        "# Save weights\n",
        "[Back to Table of Contents](#ToC)"
      ]
    },
    {
      "cell_type": "code",
      "execution_count": null,
      "metadata": {
        "id": "8XpVwT-bIIqm"
      },
      "outputs": [],
      "source": [
        "TrainNet.save_weights('./weights.pth')"
      ]
    },
    {
      "cell_type": "markdown",
      "metadata": {
        "id": "SZ-ZAZ_nIIqn"
      },
      "source": [
        "<a class=\"anchor\" id=\"create_an_agent\"></a>\n",
        "# Create an agent\n",
        "[Back to Table of Contents](#ToC)"
      ]
    },
    {
      "cell_type": "code",
      "execution_count": null,
      "metadata": {
        "id": "6fSzj3qcIIqn"
      },
      "outputs": [],
      "source": [
        "fc_layers = []\n",
        "\n",
        "# Get all hidden layers' weights\n",
        "for i in range(len(hidden_units)):\n",
        "    fc_layers.extend([\n",
        "        TrainNet.model.hidden_layers[i].weight.T.tolist(), # weights\n",
        "        TrainNet.model.hidden_layers[i].bias.tolist() # bias\n",
        "    ])\n",
        "\n",
        "# Get output layer's weights\n",
        "fc_layers.extend([\n",
        "    TrainNet.model.output_layer.weight.T.tolist(), # weights\n",
        "    TrainNet.model.output_layer.bias.tolist() # bias\n",
        "])\n",
        "\n",
        "# Convert all layers into usable form before integrating to final agent\n",
        "fc_layers = list(map(\n",
        "    lambda x: str(list(np.round(x, precision))) \\\n",
        "        .replace('array(', '').replace(')', '') \\\n",
        "        .replace(' ', '') \\\n",
        "        .replace('\\n', ''),\n",
        "    fc_layers\n",
        "))\n",
        "fc_layers = np.reshape(fc_layers, (-1, 2))\n",
        "\n",
        "# Create the agent\n",
        "my_agent = '''def my_agent(observation, configuration):\n",
        "    import numpy as np\n",
        "\n",
        "'''\n",
        "\n",
        "# Write hidden layers\n",
        "for i, (w, b) in enumerate(fc_layers[:-1]):\n",
        "    my_agent += '    hl{}_w = np.array({}, dtype=np.float32)\\n'.format(i+1, w)\n",
        "    my_agent += '    hl{}_b = np.array({}, dtype=np.float32)\\n'.format(i+1, b)\n",
        "# Write output layer\n",
        "my_agent += '    ol_w = np.array({}, dtype=np.float32)\\n'.format(fc_layers[-1][0])\n",
        "my_agent += '    ol_b = np.array({}, dtype=np.float32)\\n'.format(fc_layers[-1][1])\n",
        "\n",
        "my_agent += '''\n",
        "    state = observation.board[:]\n",
        "    state.append(observation.mark)\n",
        "    out = np.array(state, dtype=np.float32)\n",
        "\n",
        "'''\n",
        "\n",
        "# Calculate hidden layers\n",
        "for i in range(len(fc_layers[:-1])):\n",
        "    my_agent += '    out = np.matmul(out, hl{0}_w) + hl{0}_b\\n'.format(i+1)\n",
        "    my_agent += '    out = 1/(1 + np.exp(-out))\\n' # Sigmoid function\n",
        "# Calculate output layer\n",
        "my_agent += '    out = np.matmul(out, ol_w) + ol_b\\n'\n",
        "\n",
        "my_agent += '''\n",
        "    for i in range(configuration.columns):\n",
        "        if observation.board[i] != 0:\n",
        "            out[i] = -1e7\n",
        "\n",
        "    return int(np.argmax(out))\n",
        "    '''"
      ]
    },
    {
      "cell_type": "code",
      "execution_count": null,
      "metadata": {
        "id": "eKoHKBWeIIqq"
      },
      "outputs": [],
      "source": [
        "with open('submission.py', 'w') as f:\n",
        "    f.write(my_agent)"
      ]
    },
    {
      "cell_type": "markdown",
      "metadata": {
        "id": "YuTTGeanIIqr"
      },
      "source": [
        "<a class=\"anchor\" id=\"evaluate_the_agent\"></a>\n",
        "# Evaluate the agent\n",
        "[Back to Table of Contents](#ToC)"
      ]
    },
    {
      "cell_type": "code",
      "execution_count": null,
      "metadata": {
        "id": "RGB5ZVc9IIqs"
      },
      "outputs": [],
      "source": [
        "from submission import my_agent"
      ]
    },
    {
      "cell_type": "code",
      "execution_count": null,
      "metadata": {
        "id": "eOSpQLc0IIqu",
        "outputId": "0b5f406f-08db-4086-c3aa-22f14c3b89df"
      },
      "outputs": [
        {
          "name": "stdout",
          "output_type": "stream",
          "text": [
            "My Agent vs. Random Agent: 0.9\n",
            "My Agent vs. Negamax Agent: 0.0\n",
            "Random Agent vs. My Agent: 0.2\n",
            "Negamax Agent vs. My Agent: 1.0\n"
          ]
        }
      ],
      "source": [
        "def mean_reward(rewards):\n",
        "    return sum(r[0] for r in rewards) / sum(r[0] + r[1] for r in rewards)\n",
        "\n",
        "# Run multiple episodes to estimate agent's performance.\n",
        "print(\"My Agent vs. Random Agent:\", mean_reward(evaluate(\"connectx\", [my_agent, \"random\"], num_episodes=10)))\n",
        "print(\"My Agent vs. Negamax Agent:\", mean_reward(evaluate(\"connectx\", [my_agent, \"negamax\"], num_episodes=10)))\n",
        "print(\"Random Agent vs. My Agent:\", mean_reward(evaluate(\"connectx\", [\"random\", my_agent], num_episodes=10)))\n",
        "print(\"Negamax Agent vs. My Agent:\", mean_reward(evaluate(\"connectx\", [\"negamax\", my_agent], num_episodes=10)))"
      ]
    }
  ],
  "metadata": {
    "kernelspec": {
      "display_name": "Python 3",
      "language": "python",
      "name": "python3"
    },
    "language_info": {
      "codemirror_mode": {
        "name": "ipython",
        "version": 3
      },
      "file_extension": ".py",
      "mimetype": "text/x-python",
      "name": "python",
      "nbconvert_exporter": "python",
      "pygments_lexer": "ipython3",
      "version": "3.6.6"
    },
    "widgets": {
      "application/vnd.jupyter.widget-state+json": {
        "4e205ea0897b4b99888a2c4879d2c34a": {
          "model_module": "@jupyter-widgets/controls",
          "model_name": "HBoxModel",
          "model_module_version": "1.5.0",
          "state": {
            "_dom_classes": [],
            "_model_module": "@jupyter-widgets/controls",
            "_model_module_version": "1.5.0",
            "_model_name": "HBoxModel",
            "_view_count": null,
            "_view_module": "@jupyter-widgets/controls",
            "_view_module_version": "1.5.0",
            "_view_name": "HBoxView",
            "box_style": "",
            "children": [
              "IPY_MODEL_3f858fa28fb745aabbc40a045c3112b6",
              "IPY_MODEL_3fda6cba2f2e48b082ea445d0166b63f",
              "IPY_MODEL_2c221459fecd44ef9bb7b79c79f91875"
            ],
            "layout": "IPY_MODEL_1f40759b2e864097b069a370fbdc7f60"
          }
        },
        "3f858fa28fb745aabbc40a045c3112b6": {
          "model_module": "@jupyter-widgets/controls",
          "model_name": "HTMLModel",
          "model_module_version": "1.5.0",
          "state": {
            "_dom_classes": [],
            "_model_module": "@jupyter-widgets/controls",
            "_model_module_version": "1.5.0",
            "_model_name": "HTMLModel",
            "_view_count": null,
            "_view_module": "@jupyter-widgets/controls",
            "_view_module_version": "1.5.0",
            "_view_name": "HTMLView",
            "description": "",
            "description_tooltip": null,
            "layout": "IPY_MODEL_84a2cfd810674c56ba037b5bc99a6f65",
            "placeholder": "​",
            "style": "IPY_MODEL_11478624b6c94415b0637e9a5de60ffc",
            "value": " 87%"
          }
        },
        "3fda6cba2f2e48b082ea445d0166b63f": {
          "model_module": "@jupyter-widgets/controls",
          "model_name": "FloatProgressModel",
          "model_module_version": "1.5.0",
          "state": {
            "_dom_classes": [],
            "_model_module": "@jupyter-widgets/controls",
            "_model_module_version": "1.5.0",
            "_model_name": "FloatProgressModel",
            "_view_count": null,
            "_view_module": "@jupyter-widgets/controls",
            "_view_module_version": "1.5.0",
            "_view_name": "ProgressView",
            "bar_style": "",
            "description": "",
            "description_tooltip": null,
            "layout": "IPY_MODEL_5a8cb539b216454594d6750431952a97",
            "max": 20000,
            "min": 0,
            "orientation": "horizontal",
            "style": "IPY_MODEL_105be7924d00409e806d219cb0727622",
            "value": 17321
          }
        },
        "2c221459fecd44ef9bb7b79c79f91875": {
          "model_module": "@jupyter-widgets/controls",
          "model_name": "HTMLModel",
          "model_module_version": "1.5.0",
          "state": {
            "_dom_classes": [],
            "_model_module": "@jupyter-widgets/controls",
            "_model_module_version": "1.5.0",
            "_model_name": "HTMLModel",
            "_view_count": null,
            "_view_module": "@jupyter-widgets/controls",
            "_view_module_version": "1.5.0",
            "_view_name": "HTMLView",
            "description": "",
            "description_tooltip": null,
            "layout": "IPY_MODEL_6a2d4a08e643444091d55db63fad73ba",
            "placeholder": "​",
            "style": "IPY_MODEL_72ea4d856dda4d088de50cc0c8af0cc7",
            "value": " 17321/20000 [43:52&lt;07:42,  5.79it/s, episode reward=24, avg (100 last) reward=10.3, epsilon=0.1]"
          }
        },
        "1f40759b2e864097b069a370fbdc7f60": {
          "model_module": "@jupyter-widgets/base",
          "model_name": "LayoutModel",
          "model_module_version": "1.2.0",
          "state": {
            "_model_module": "@jupyter-widgets/base",
            "_model_module_version": "1.2.0",
            "_model_name": "LayoutModel",
            "_view_count": null,
            "_view_module": "@jupyter-widgets/base",
            "_view_module_version": "1.2.0",
            "_view_name": "LayoutView",
            "align_content": null,
            "align_items": null,
            "align_self": null,
            "border": null,
            "bottom": null,
            "display": null,
            "flex": null,
            "flex_flow": null,
            "grid_area": null,
            "grid_auto_columns": null,
            "grid_auto_flow": null,
            "grid_auto_rows": null,
            "grid_column": null,
            "grid_gap": null,
            "grid_row": null,
            "grid_template_areas": null,
            "grid_template_columns": null,
            "grid_template_rows": null,
            "height": null,
            "justify_content": null,
            "justify_items": null,
            "left": null,
            "margin": null,
            "max_height": null,
            "max_width": null,
            "min_height": null,
            "min_width": null,
            "object_fit": null,
            "object_position": null,
            "order": null,
            "overflow": null,
            "overflow_x": null,
            "overflow_y": null,
            "padding": null,
            "right": null,
            "top": null,
            "visibility": null,
            "width": null
          }
        },
        "84a2cfd810674c56ba037b5bc99a6f65": {
          "model_module": "@jupyter-widgets/base",
          "model_name": "LayoutModel",
          "model_module_version": "1.2.0",
          "state": {
            "_model_module": "@jupyter-widgets/base",
            "_model_module_version": "1.2.0",
            "_model_name": "LayoutModel",
            "_view_count": null,
            "_view_module": "@jupyter-widgets/base",
            "_view_module_version": "1.2.0",
            "_view_name": "LayoutView",
            "align_content": null,
            "align_items": null,
            "align_self": null,
            "border": null,
            "bottom": null,
            "display": null,
            "flex": null,
            "flex_flow": null,
            "grid_area": null,
            "grid_auto_columns": null,
            "grid_auto_flow": null,
            "grid_auto_rows": null,
            "grid_column": null,
            "grid_gap": null,
            "grid_row": null,
            "grid_template_areas": null,
            "grid_template_columns": null,
            "grid_template_rows": null,
            "height": null,
            "justify_content": null,
            "justify_items": null,
            "left": null,
            "margin": null,
            "max_height": null,
            "max_width": null,
            "min_height": null,
            "min_width": null,
            "object_fit": null,
            "object_position": null,
            "order": null,
            "overflow": null,
            "overflow_x": null,
            "overflow_y": null,
            "padding": null,
            "right": null,
            "top": null,
            "visibility": null,
            "width": null
          }
        },
        "11478624b6c94415b0637e9a5de60ffc": {
          "model_module": "@jupyter-widgets/controls",
          "model_name": "DescriptionStyleModel",
          "model_module_version": "1.5.0",
          "state": {
            "_model_module": "@jupyter-widgets/controls",
            "_model_module_version": "1.5.0",
            "_model_name": "DescriptionStyleModel",
            "_view_count": null,
            "_view_module": "@jupyter-widgets/base",
            "_view_module_version": "1.2.0",
            "_view_name": "StyleView",
            "description_width": ""
          }
        },
        "5a8cb539b216454594d6750431952a97": {
          "model_module": "@jupyter-widgets/base",
          "model_name": "LayoutModel",
          "model_module_version": "1.2.0",
          "state": {
            "_model_module": "@jupyter-widgets/base",
            "_model_module_version": "1.2.0",
            "_model_name": "LayoutModel",
            "_view_count": null,
            "_view_module": "@jupyter-widgets/base",
            "_view_module_version": "1.2.0",
            "_view_name": "LayoutView",
            "align_content": null,
            "align_items": null,
            "align_self": null,
            "border": null,
            "bottom": null,
            "display": null,
            "flex": null,
            "flex_flow": null,
            "grid_area": null,
            "grid_auto_columns": null,
            "grid_auto_flow": null,
            "grid_auto_rows": null,
            "grid_column": null,
            "grid_gap": null,
            "grid_row": null,
            "grid_template_areas": null,
            "grid_template_columns": null,
            "grid_template_rows": null,
            "height": null,
            "justify_content": null,
            "justify_items": null,
            "left": null,
            "margin": null,
            "max_height": null,
            "max_width": null,
            "min_height": null,
            "min_width": null,
            "object_fit": null,
            "object_position": null,
            "order": null,
            "overflow": null,
            "overflow_x": null,
            "overflow_y": null,
            "padding": null,
            "right": null,
            "top": null,
            "visibility": null,
            "width": null
          }
        },
        "105be7924d00409e806d219cb0727622": {
          "model_module": "@jupyter-widgets/controls",
          "model_name": "ProgressStyleModel",
          "model_module_version": "1.5.0",
          "state": {
            "_model_module": "@jupyter-widgets/controls",
            "_model_module_version": "1.5.0",
            "_model_name": "ProgressStyleModel",
            "_view_count": null,
            "_view_module": "@jupyter-widgets/base",
            "_view_module_version": "1.2.0",
            "_view_name": "StyleView",
            "bar_color": null,
            "description_width": ""
          }
        },
        "6a2d4a08e643444091d55db63fad73ba": {
          "model_module": "@jupyter-widgets/base",
          "model_name": "LayoutModel",
          "model_module_version": "1.2.0",
          "state": {
            "_model_module": "@jupyter-widgets/base",
            "_model_module_version": "1.2.0",
            "_model_name": "LayoutModel",
            "_view_count": null,
            "_view_module": "@jupyter-widgets/base",
            "_view_module_version": "1.2.0",
            "_view_name": "LayoutView",
            "align_content": null,
            "align_items": null,
            "align_self": null,
            "border": null,
            "bottom": null,
            "display": null,
            "flex": null,
            "flex_flow": null,
            "grid_area": null,
            "grid_auto_columns": null,
            "grid_auto_flow": null,
            "grid_auto_rows": null,
            "grid_column": null,
            "grid_gap": null,
            "grid_row": null,
            "grid_template_areas": null,
            "grid_template_columns": null,
            "grid_template_rows": null,
            "height": null,
            "justify_content": null,
            "justify_items": null,
            "left": null,
            "margin": null,
            "max_height": null,
            "max_width": null,
            "min_height": null,
            "min_width": null,
            "object_fit": null,
            "object_position": null,
            "order": null,
            "overflow": null,
            "overflow_x": null,
            "overflow_y": null,
            "padding": null,
            "right": null,
            "top": null,
            "visibility": null,
            "width": null
          }
        },
        "72ea4d856dda4d088de50cc0c8af0cc7": {
          "model_module": "@jupyter-widgets/controls",
          "model_name": "DescriptionStyleModel",
          "model_module_version": "1.5.0",
          "state": {
            "_model_module": "@jupyter-widgets/controls",
            "_model_module_version": "1.5.0",
            "_model_name": "DescriptionStyleModel",
            "_view_count": null,
            "_view_module": "@jupyter-widgets/base",
            "_view_module_version": "1.2.0",
            "_view_name": "StyleView",
            "description_width": ""
          }
        }
      }
    },
    "colab": {
      "provenance": []
    }
  },
  "nbformat": 4,
  "nbformat_minor": 0
}